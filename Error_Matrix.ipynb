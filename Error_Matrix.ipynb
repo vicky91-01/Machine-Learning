{
 "cells": [
  {
   "cell_type": "code",
   "execution_count": 1,
   "id": "e69566ee",
   "metadata": {},
   "outputs": [
    {
     "name": "stdout",
     "output_type": "stream",
     "text": [
      "Mean Absolute Error (MAE): 0.30000000000000004\n",
      "Sum of Squared Errors (SSE): 0.4200000000000001\n",
      "Mean Squared Error (MSE): 0.10500000000000002\n",
      "Root Mean Squared Error (RMSE): 0.32403703492039304\n",
      "Mean Absolute Percentage Error (MAPE): 7.666666666666668%\n",
      "R-squared: 0.9159999999999999\n",
      "Adjusted R-squared: 0.874\n"
     ]
    }
   ],
   "source": [
    "import numpy as np\n",
    "# Define a function to calculate all metrics\n",
    "def calculate_metrics(y_actual, y_pred, num_predictors):\n",
    "    n = len(y_actual)\n",
    "    \n",
    "    # Mean of actual values\n",
    "    y_mean = np.mean(y_actual)\n",
    "    \n",
    "    # Errors\n",
    "    residuals = y_actual - y_pred\n",
    "    \n",
    "    # Metrics\n",
    "    MAE = np.mean(np.abs(residuals))\n",
    "    SSE = np.sum(residuals**2)\n",
    "    MSE = np.mean(residuals**2)\n",
    "    RMSE = np.sqrt(MSE)\n",
    "    MAPE = np.mean(np.abs(residuals / y_actual)) * 100\n",
    "    \n",
    "    # R-squared\n",
    "    SS_total = np.sum((y_actual - y_mean)**2)\n",
    "    R_square = 1 - (SSE / SS_total)\n",
    "    \n",
    "    # Adjusted R-squared\n",
    "    Adjusted_R_square = 1 - ((SSE / (n - num_predictors - 1)) / (SS_total / (n - 1)))\n",
    "    \n",
    "    # Print all metrics\n",
    "    print(f\"Mean Absolute Error (MAE): {MAE}\")\n",
    "    print(f\"Sum of Squared Errors (SSE): {SSE}\")\n",
    "    print(f\"Mean Squared Error (MSE): {MSE}\")\n",
    "    print(f\"Root Mean Squared Error (RMSE): {RMSE}\")\n",
    "    print(f\"Mean Absolute Percentage Error (MAPE): {MAPE}%\")\n",
    "    print(f\"R-squared: {R_square}\")\n",
    "    print(f\"Adjusted R-squared: {Adjusted_R_square}\")\n",
    "\n",
    "# Example usage:\n",
    "y_actual = np.array([3, 4, 5, 6])\n",
    "y_pred = np.array([2.5, 4.2, 4.8, 6.3])\n",
    "\n",
    "# Assuming 1 predictor (simple linear regression)\n",
    "num_predictors = 1\n",
    "\n",
    "calculate_metrics(y_actual, y_pred, num_predictors)"
   ]
  }
 ],
 "metadata": {
  "kernelspec": {
   "display_name": "venv",
   "language": "python",
   "name": "python3"
  },
  "language_info": {
   "codemirror_mode": {
    "name": "ipython",
    "version": 3
   },
   "file_extension": ".py",
   "mimetype": "text/x-python",
   "name": "python",
   "nbconvert_exporter": "python",
   "pygments_lexer": "ipython3",
   "version": "3.13.5"
  }
 },
 "nbformat": 4,
 "nbformat_minor": 5
}
